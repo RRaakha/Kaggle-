{
 "cells": [
  {
   "cell_type": "code",
   "execution_count": 1,
   "id": "f6ed3977",
   "metadata": {
    "_cell_guid": "b1076dfc-b9ad-4769-8c92-a6c4dae69d19",
    "_uuid": "8f2839f25d086af736a60e9eeb907d3b93b6e0e5",
    "execution": {
     "iopub.execute_input": "2023-03-14T11:36:45.673601Z",
     "iopub.status.busy": "2023-03-14T11:36:45.673079Z",
     "iopub.status.idle": "2023-03-14T11:36:45.689517Z",
     "shell.execute_reply": "2023-03-14T11:36:45.688117Z"
    },
    "papermill": {
     "duration": 0.03214,
     "end_time": "2023-03-14T11:36:45.692292",
     "exception": false,
     "start_time": "2023-03-14T11:36:45.660152",
     "status": "completed"
    },
    "tags": []
   },
   "outputs": [
    {
     "name": "stdout",
     "output_type": "stream",
     "text": [
      "/kaggle/input/titanic/train.csv\n",
      "/kaggle/input/titanic/test.csv\n",
      "/kaggle/input/titanic/gender_submission.csv\n"
     ]
    }
   ],
   "source": [
    "# This Python 3 environment comes with many helpful analytics libraries installed\n",
    "# It is defined by the kaggle/python Docker image: https://github.com/kaggle/docker-python\n",
    "# For example, here's several helpful packages to load\n",
    "\n",
    "import numpy as np # linear algebra\n",
    "import pandas as pd # data processing, CSV file I/O (e.g. pd.read_csv)\n",
    "\n",
    "# Input data files are available in the read-only \"../input/\" directory\n",
    "# For example, running this (by clicking run or pressing Shift+Enter) will list all files under the input directory\n",
    "\n",
    "import os\n",
    "for dirname, _, filenames in os.walk('/kaggle/input'):\n",
    "    for filename in filenames:\n",
    "        print(os.path.join(dirname, filename))\n",
    "\n",
    "# You can write up to 20GB to the current directory (/kaggle/working/) that gets preserved as output when you create a version using \"Save & Run All\" \n",
    "# You can also write temporary files to /kaggle/temp/, but they won't be saved outside of the current session"
   ]
  },
  {
   "cell_type": "markdown",
   "id": "b71f784a",
   "metadata": {
    "execution": {
     "iopub.status.busy": "2022-08-18T15:33:25.498671Z",
     "iopub.status.idle": "2022-08-18T15:33:25.499323Z",
     "shell.execute_reply": "2022-08-18T15:33:25.499128Z",
     "shell.execute_reply.started": "2022-08-18T15:33:25.499106Z"
    },
    "papermill": {
     "duration": 0.009656,
     "end_time": "2023-03-14T11:36:45.712381",
     "exception": false,
     "start_time": "2023-03-14T11:36:45.702725",
     "status": "completed"
    },
    "tags": []
   },
   "source": [
    "## EDA(Exploratory data analysis)"
   ]
  },
  {
   "cell_type": "markdown",
   "id": "06ebf700",
   "metadata": {
    "papermill": {
     "duration": 0.00961,
     "end_time": "2023-03-14T11:36:45.731885",
     "exception": false,
     "start_time": "2023-03-14T11:36:45.722275",
     "status": "completed"
    },
    "tags": []
   },
   "source": []
  },
  {
   "cell_type": "code",
   "execution_count": 2,
   "id": "f73bf5f7",
   "metadata": {
    "execution": {
     "iopub.execute_input": "2023-03-14T11:36:45.754842Z",
     "iopub.status.busy": "2023-03-14T11:36:45.754184Z",
     "iopub.status.idle": "2023-03-14T11:36:45.808448Z",
     "shell.execute_reply": "2023-03-14T11:36:45.807519Z"
    },
    "papermill": {
     "duration": 0.068761,
     "end_time": "2023-03-14T11:36:45.811142",
     "exception": false,
     "start_time": "2023-03-14T11:36:45.742381",
     "status": "completed"
    },
    "tags": []
   },
   "outputs": [
    {
     "data": {
      "text/html": [
       "<div>\n",
       "<style scoped>\n",
       "    .dataframe tbody tr th:only-of-type {\n",
       "        vertical-align: middle;\n",
       "    }\n",
       "\n",
       "    .dataframe tbody tr th {\n",
       "        vertical-align: top;\n",
       "    }\n",
       "\n",
       "    .dataframe thead th {\n",
       "        text-align: right;\n",
       "    }\n",
       "</style>\n",
       "<table border=\"1\" class=\"dataframe\">\n",
       "  <thead>\n",
       "    <tr style=\"text-align: right;\">\n",
       "      <th></th>\n",
       "      <th>PassengerId</th>\n",
       "      <th>Survived</th>\n",
       "      <th>Pclass</th>\n",
       "      <th>Name</th>\n",
       "      <th>Sex</th>\n",
       "      <th>Age</th>\n",
       "      <th>SibSp</th>\n",
       "      <th>Parch</th>\n",
       "      <th>Ticket</th>\n",
       "      <th>Fare</th>\n",
       "      <th>Cabin</th>\n",
       "      <th>Embarked</th>\n",
       "    </tr>\n",
       "  </thead>\n",
       "  <tbody>\n",
       "    <tr>\n",
       "      <th>0</th>\n",
       "      <td>1</td>\n",
       "      <td>0</td>\n",
       "      <td>3</td>\n",
       "      <td>Braund, Mr. Owen Harris</td>\n",
       "      <td>male</td>\n",
       "      <td>22.0</td>\n",
       "      <td>1</td>\n",
       "      <td>0</td>\n",
       "      <td>A/5 21171</td>\n",
       "      <td>7.2500</td>\n",
       "      <td>NaN</td>\n",
       "      <td>S</td>\n",
       "    </tr>\n",
       "    <tr>\n",
       "      <th>1</th>\n",
       "      <td>2</td>\n",
       "      <td>1</td>\n",
       "      <td>1</td>\n",
       "      <td>Cumings, Mrs. John Bradley (Florence Briggs Th...</td>\n",
       "      <td>female</td>\n",
       "      <td>38.0</td>\n",
       "      <td>1</td>\n",
       "      <td>0</td>\n",
       "      <td>PC 17599</td>\n",
       "      <td>71.2833</td>\n",
       "      <td>C85</td>\n",
       "      <td>C</td>\n",
       "    </tr>\n",
       "    <tr>\n",
       "      <th>2</th>\n",
       "      <td>3</td>\n",
       "      <td>1</td>\n",
       "      <td>3</td>\n",
       "      <td>Heikkinen, Miss. Laina</td>\n",
       "      <td>female</td>\n",
       "      <td>26.0</td>\n",
       "      <td>0</td>\n",
       "      <td>0</td>\n",
       "      <td>STON/O2. 3101282</td>\n",
       "      <td>7.9250</td>\n",
       "      <td>NaN</td>\n",
       "      <td>S</td>\n",
       "    </tr>\n",
       "    <tr>\n",
       "      <th>3</th>\n",
       "      <td>4</td>\n",
       "      <td>1</td>\n",
       "      <td>1</td>\n",
       "      <td>Futrelle, Mrs. Jacques Heath (Lily May Peel)</td>\n",
       "      <td>female</td>\n",
       "      <td>35.0</td>\n",
       "      <td>1</td>\n",
       "      <td>0</td>\n",
       "      <td>113803</td>\n",
       "      <td>53.1000</td>\n",
       "      <td>C123</td>\n",
       "      <td>S</td>\n",
       "    </tr>\n",
       "    <tr>\n",
       "      <th>4</th>\n",
       "      <td>5</td>\n",
       "      <td>0</td>\n",
       "      <td>3</td>\n",
       "      <td>Allen, Mr. William Henry</td>\n",
       "      <td>male</td>\n",
       "      <td>35.0</td>\n",
       "      <td>0</td>\n",
       "      <td>0</td>\n",
       "      <td>373450</td>\n",
       "      <td>8.0500</td>\n",
       "      <td>NaN</td>\n",
       "      <td>S</td>\n",
       "    </tr>\n",
       "  </tbody>\n",
       "</table>\n",
       "</div>"
      ],
      "text/plain": [
       "   PassengerId  Survived  Pclass  \\\n",
       "0            1         0       3   \n",
       "1            2         1       1   \n",
       "2            3         1       3   \n",
       "3            4         1       1   \n",
       "4            5         0       3   \n",
       "\n",
       "                                                Name     Sex   Age  SibSp  \\\n",
       "0                            Braund, Mr. Owen Harris    male  22.0      1   \n",
       "1  Cumings, Mrs. John Bradley (Florence Briggs Th...  female  38.0      1   \n",
       "2                             Heikkinen, Miss. Laina  female  26.0      0   \n",
       "3       Futrelle, Mrs. Jacques Heath (Lily May Peel)  female  35.0      1   \n",
       "4                           Allen, Mr. William Henry    male  35.0      0   \n",
       "\n",
       "   Parch            Ticket     Fare Cabin Embarked  \n",
       "0      0         A/5 21171   7.2500   NaN        S  \n",
       "1      0          PC 17599  71.2833   C85        C  \n",
       "2      0  STON/O2. 3101282   7.9250   NaN        S  \n",
       "3      0            113803  53.1000  C123        S  \n",
       "4      0            373450   8.0500   NaN        S  "
      ]
     },
     "execution_count": 2,
     "metadata": {},
     "output_type": "execute_result"
    }
   ],
   "source": [
    "import pandas as pd\n",
    "df1 = pd.read_csv(\"../input/titanic/train.csv\")\n",
    "df2 = pd.read_csv (\"../input/titanic/test.csv\")\n",
    "df1.head()"
   ]
  },
  {
   "cell_type": "code",
   "execution_count": 3,
   "id": "e64c6c56",
   "metadata": {
    "execution": {
     "iopub.execute_input": "2023-03-14T11:36:45.835725Z",
     "iopub.status.busy": "2023-03-14T11:36:45.835075Z",
     "iopub.status.idle": "2023-03-14T11:36:45.850181Z",
     "shell.execute_reply": "2023-03-14T11:36:45.849309Z"
    },
    "papermill": {
     "duration": 0.029781,
     "end_time": "2023-03-14T11:36:45.852408",
     "exception": false,
     "start_time": "2023-03-14T11:36:45.822627",
     "status": "completed"
    },
    "tags": []
   },
   "outputs": [
    {
     "data": {
      "text/html": [
       "<div>\n",
       "<style scoped>\n",
       "    .dataframe tbody tr th:only-of-type {\n",
       "        vertical-align: middle;\n",
       "    }\n",
       "\n",
       "    .dataframe tbody tr th {\n",
       "        vertical-align: top;\n",
       "    }\n",
       "\n",
       "    .dataframe thead th {\n",
       "        text-align: right;\n",
       "    }\n",
       "</style>\n",
       "<table border=\"1\" class=\"dataframe\">\n",
       "  <thead>\n",
       "    <tr style=\"text-align: right;\">\n",
       "      <th></th>\n",
       "      <th>PassengerId</th>\n",
       "      <th>Pclass</th>\n",
       "      <th>Name</th>\n",
       "      <th>Sex</th>\n",
       "      <th>Age</th>\n",
       "      <th>SibSp</th>\n",
       "      <th>Parch</th>\n",
       "      <th>Ticket</th>\n",
       "      <th>Fare</th>\n",
       "      <th>Cabin</th>\n",
       "      <th>Embarked</th>\n",
       "    </tr>\n",
       "  </thead>\n",
       "  <tbody>\n",
       "    <tr>\n",
       "      <th>0</th>\n",
       "      <td>892</td>\n",
       "      <td>3</td>\n",
       "      <td>Kelly, Mr. James</td>\n",
       "      <td>male</td>\n",
       "      <td>34.5</td>\n",
       "      <td>0</td>\n",
       "      <td>0</td>\n",
       "      <td>330911</td>\n",
       "      <td>7.8292</td>\n",
       "      <td>NaN</td>\n",
       "      <td>Q</td>\n",
       "    </tr>\n",
       "    <tr>\n",
       "      <th>1</th>\n",
       "      <td>893</td>\n",
       "      <td>3</td>\n",
       "      <td>Wilkes, Mrs. James (Ellen Needs)</td>\n",
       "      <td>female</td>\n",
       "      <td>47.0</td>\n",
       "      <td>1</td>\n",
       "      <td>0</td>\n",
       "      <td>363272</td>\n",
       "      <td>7.0000</td>\n",
       "      <td>NaN</td>\n",
       "      <td>S</td>\n",
       "    </tr>\n",
       "    <tr>\n",
       "      <th>2</th>\n",
       "      <td>894</td>\n",
       "      <td>2</td>\n",
       "      <td>Myles, Mr. Thomas Francis</td>\n",
       "      <td>male</td>\n",
       "      <td>62.0</td>\n",
       "      <td>0</td>\n",
       "      <td>0</td>\n",
       "      <td>240276</td>\n",
       "      <td>9.6875</td>\n",
       "      <td>NaN</td>\n",
       "      <td>Q</td>\n",
       "    </tr>\n",
       "    <tr>\n",
       "      <th>3</th>\n",
       "      <td>895</td>\n",
       "      <td>3</td>\n",
       "      <td>Wirz, Mr. Albert</td>\n",
       "      <td>male</td>\n",
       "      <td>27.0</td>\n",
       "      <td>0</td>\n",
       "      <td>0</td>\n",
       "      <td>315154</td>\n",
       "      <td>8.6625</td>\n",
       "      <td>NaN</td>\n",
       "      <td>S</td>\n",
       "    </tr>\n",
       "    <tr>\n",
       "      <th>4</th>\n",
       "      <td>896</td>\n",
       "      <td>3</td>\n",
       "      <td>Hirvonen, Mrs. Alexander (Helga E Lindqvist)</td>\n",
       "      <td>female</td>\n",
       "      <td>22.0</td>\n",
       "      <td>1</td>\n",
       "      <td>1</td>\n",
       "      <td>3101298</td>\n",
       "      <td>12.2875</td>\n",
       "      <td>NaN</td>\n",
       "      <td>S</td>\n",
       "    </tr>\n",
       "  </tbody>\n",
       "</table>\n",
       "</div>"
      ],
      "text/plain": [
       "   PassengerId  Pclass                                          Name     Sex  \\\n",
       "0          892       3                              Kelly, Mr. James    male   \n",
       "1          893       3              Wilkes, Mrs. James (Ellen Needs)  female   \n",
       "2          894       2                     Myles, Mr. Thomas Francis    male   \n",
       "3          895       3                              Wirz, Mr. Albert    male   \n",
       "4          896       3  Hirvonen, Mrs. Alexander (Helga E Lindqvist)  female   \n",
       "\n",
       "    Age  SibSp  Parch   Ticket     Fare Cabin Embarked  \n",
       "0  34.5      0      0   330911   7.8292   NaN        Q  \n",
       "1  47.0      1      0   363272   7.0000   NaN        S  \n",
       "2  62.0      0      0   240276   9.6875   NaN        Q  \n",
       "3  27.0      0      0   315154   8.6625   NaN        S  \n",
       "4  22.0      1      1  3101298  12.2875   NaN        S  "
      ]
     },
     "execution_count": 3,
     "metadata": {},
     "output_type": "execute_result"
    }
   ],
   "source": [
    "df2.head()"
   ]
  },
  {
   "cell_type": "code",
   "execution_count": 4,
   "id": "56561b06",
   "metadata": {
    "execution": {
     "iopub.execute_input": "2023-03-14T11:36:45.875902Z",
     "iopub.status.busy": "2023-03-14T11:36:45.875062Z",
     "iopub.status.idle": "2023-03-14T11:36:45.914748Z",
     "shell.execute_reply": "2023-03-14T11:36:45.913618Z"
    },
    "papermill": {
     "duration": 0.054191,
     "end_time": "2023-03-14T11:36:45.917207",
     "exception": false,
     "start_time": "2023-03-14T11:36:45.863016",
     "status": "completed"
    },
    "tags": []
   },
   "outputs": [
    {
     "data": {
      "text/html": [
       "<div>\n",
       "<style scoped>\n",
       "    .dataframe tbody tr th:only-of-type {\n",
       "        vertical-align: middle;\n",
       "    }\n",
       "\n",
       "    .dataframe tbody tr th {\n",
       "        vertical-align: top;\n",
       "    }\n",
       "\n",
       "    .dataframe thead th {\n",
       "        text-align: right;\n",
       "    }\n",
       "</style>\n",
       "<table border=\"1\" class=\"dataframe\">\n",
       "  <thead>\n",
       "    <tr style=\"text-align: right;\">\n",
       "      <th></th>\n",
       "      <th>Age</th>\n",
       "      <th>Fare</th>\n",
       "      <th>Pclass</th>\n",
       "      <th>Survived</th>\n",
       "    </tr>\n",
       "  </thead>\n",
       "  <tbody>\n",
       "    <tr>\n",
       "      <th>count</th>\n",
       "      <td>714.000000</td>\n",
       "      <td>891.000000</td>\n",
       "      <td>891.000000</td>\n",
       "      <td>891.000000</td>\n",
       "    </tr>\n",
       "    <tr>\n",
       "      <th>mean</th>\n",
       "      <td>29.699118</td>\n",
       "      <td>32.204208</td>\n",
       "      <td>2.308642</td>\n",
       "      <td>0.383838</td>\n",
       "    </tr>\n",
       "    <tr>\n",
       "      <th>std</th>\n",
       "      <td>14.526497</td>\n",
       "      <td>49.693429</td>\n",
       "      <td>0.836071</td>\n",
       "      <td>0.486592</td>\n",
       "    </tr>\n",
       "    <tr>\n",
       "      <th>min</th>\n",
       "      <td>0.420000</td>\n",
       "      <td>0.000000</td>\n",
       "      <td>1.000000</td>\n",
       "      <td>0.000000</td>\n",
       "    </tr>\n",
       "    <tr>\n",
       "      <th>25%</th>\n",
       "      <td>20.125000</td>\n",
       "      <td>7.910400</td>\n",
       "      <td>2.000000</td>\n",
       "      <td>0.000000</td>\n",
       "    </tr>\n",
       "    <tr>\n",
       "      <th>50%</th>\n",
       "      <td>28.000000</td>\n",
       "      <td>14.454200</td>\n",
       "      <td>3.000000</td>\n",
       "      <td>0.000000</td>\n",
       "    </tr>\n",
       "    <tr>\n",
       "      <th>75%</th>\n",
       "      <td>38.000000</td>\n",
       "      <td>31.000000</td>\n",
       "      <td>3.000000</td>\n",
       "      <td>1.000000</td>\n",
       "    </tr>\n",
       "    <tr>\n",
       "      <th>max</th>\n",
       "      <td>80.000000</td>\n",
       "      <td>512.329200</td>\n",
       "      <td>3.000000</td>\n",
       "      <td>1.000000</td>\n",
       "    </tr>\n",
       "  </tbody>\n",
       "</table>\n",
       "</div>"
      ],
      "text/plain": [
       "              Age        Fare      Pclass    Survived\n",
       "count  714.000000  891.000000  891.000000  891.000000\n",
       "mean    29.699118   32.204208    2.308642    0.383838\n",
       "std     14.526497   49.693429    0.836071    0.486592\n",
       "min      0.420000    0.000000    1.000000    0.000000\n",
       "25%     20.125000    7.910400    2.000000    0.000000\n",
       "50%     28.000000   14.454200    3.000000    0.000000\n",
       "75%     38.000000   31.000000    3.000000    1.000000\n",
       "max     80.000000  512.329200    3.000000    1.000000"
      ]
     },
     "execution_count": 4,
     "metadata": {},
     "output_type": "execute_result"
    }
   ],
   "source": [
    "train_df = df1[['Sex','Age','Fare','Pclass','Survived']]\n",
    "train_df.describe()"
   ]
  },
  {
   "cell_type": "code",
   "execution_count": 5,
   "id": "a9057b11",
   "metadata": {
    "execution": {
     "iopub.execute_input": "2023-03-14T11:36:45.940818Z",
     "iopub.status.busy": "2023-03-14T11:36:45.940409Z",
     "iopub.status.idle": "2023-03-14T11:36:45.968617Z",
     "shell.execute_reply": "2023-03-14T11:36:45.967255Z"
    },
    "papermill": {
     "duration": 0.043399,
     "end_time": "2023-03-14T11:36:45.971307",
     "exception": false,
     "start_time": "2023-03-14T11:36:45.927908",
     "status": "completed"
    },
    "tags": []
   },
   "outputs": [
    {
     "data": {
      "text/html": [
       "<div>\n",
       "<style scoped>\n",
       "    .dataframe tbody tr th:only-of-type {\n",
       "        vertical-align: middle;\n",
       "    }\n",
       "\n",
       "    .dataframe tbody tr th {\n",
       "        vertical-align: top;\n",
       "    }\n",
       "\n",
       "    .dataframe thead th {\n",
       "        text-align: right;\n",
       "    }\n",
       "</style>\n",
       "<table border=\"1\" class=\"dataframe\">\n",
       "  <thead>\n",
       "    <tr style=\"text-align: right;\">\n",
       "      <th></th>\n",
       "      <th>Age</th>\n",
       "      <th>Fare</th>\n",
       "      <th>Pclass</th>\n",
       "      <th>Survived</th>\n",
       "    </tr>\n",
       "  </thead>\n",
       "  <tbody>\n",
       "    <tr>\n",
       "      <th>count</th>\n",
       "      <td>714.000000</td>\n",
       "      <td>891.000000</td>\n",
       "      <td>891.000000</td>\n",
       "      <td>891.000000</td>\n",
       "    </tr>\n",
       "    <tr>\n",
       "      <th>mean</th>\n",
       "      <td>29.699118</td>\n",
       "      <td>32.204208</td>\n",
       "      <td>2.308642</td>\n",
       "      <td>0.383838</td>\n",
       "    </tr>\n",
       "    <tr>\n",
       "      <th>std</th>\n",
       "      <td>14.526497</td>\n",
       "      <td>49.693429</td>\n",
       "      <td>0.836071</td>\n",
       "      <td>0.486592</td>\n",
       "    </tr>\n",
       "    <tr>\n",
       "      <th>min</th>\n",
       "      <td>0.420000</td>\n",
       "      <td>0.000000</td>\n",
       "      <td>1.000000</td>\n",
       "      <td>0.000000</td>\n",
       "    </tr>\n",
       "    <tr>\n",
       "      <th>25%</th>\n",
       "      <td>20.125000</td>\n",
       "      <td>7.910400</td>\n",
       "      <td>2.000000</td>\n",
       "      <td>0.000000</td>\n",
       "    </tr>\n",
       "    <tr>\n",
       "      <th>50%</th>\n",
       "      <td>28.000000</td>\n",
       "      <td>14.454200</td>\n",
       "      <td>3.000000</td>\n",
       "      <td>0.000000</td>\n",
       "    </tr>\n",
       "    <tr>\n",
       "      <th>75%</th>\n",
       "      <td>38.000000</td>\n",
       "      <td>31.000000</td>\n",
       "      <td>3.000000</td>\n",
       "      <td>1.000000</td>\n",
       "    </tr>\n",
       "    <tr>\n",
       "      <th>max</th>\n",
       "      <td>80.000000</td>\n",
       "      <td>512.329200</td>\n",
       "      <td>3.000000</td>\n",
       "      <td>1.000000</td>\n",
       "    </tr>\n",
       "  </tbody>\n",
       "</table>\n",
       "</div>"
      ],
      "text/plain": [
       "              Age        Fare      Pclass    Survived\n",
       "count  714.000000  891.000000  891.000000  891.000000\n",
       "mean    29.699118   32.204208    2.308642    0.383838\n",
       "std     14.526497   49.693429    0.836071    0.486592\n",
       "min      0.420000    0.000000    1.000000    0.000000\n",
       "25%     20.125000    7.910400    2.000000    0.000000\n",
       "50%     28.000000   14.454200    3.000000    0.000000\n",
       "75%     38.000000   31.000000    3.000000    1.000000\n",
       "max     80.000000  512.329200    3.000000    1.000000"
      ]
     },
     "execution_count": 5,
     "metadata": {},
     "output_type": "execute_result"
    }
   ],
   "source": [
    "train_df = df1[['Sex','Age','Fare','Pclass','Survived']]\n",
    "train_df.describe()"
   ]
  },
  {
   "cell_type": "code",
   "execution_count": 6,
   "id": "f51f2185",
   "metadata": {
    "execution": {
     "iopub.execute_input": "2023-03-14T11:36:45.995903Z",
     "iopub.status.busy": "2023-03-14T11:36:45.995467Z",
     "iopub.status.idle": "2023-03-14T11:36:46.020904Z",
     "shell.execute_reply": "2023-03-14T11:36:46.019829Z"
    },
    "papermill": {
     "duration": 0.040885,
     "end_time": "2023-03-14T11:36:46.023603",
     "exception": false,
     "start_time": "2023-03-14T11:36:45.982718",
     "status": "completed"
    },
    "tags": []
   },
   "outputs": [
    {
     "data": {
      "text/html": [
       "<div>\n",
       "<style scoped>\n",
       "    .dataframe tbody tr th:only-of-type {\n",
       "        vertical-align: middle;\n",
       "    }\n",
       "\n",
       "    .dataframe tbody tr th {\n",
       "        vertical-align: top;\n",
       "    }\n",
       "\n",
       "    .dataframe thead th {\n",
       "        text-align: right;\n",
       "    }\n",
       "</style>\n",
       "<table border=\"1\" class=\"dataframe\">\n",
       "  <thead>\n",
       "    <tr style=\"text-align: right;\">\n",
       "      <th></th>\n",
       "      <th>Age</th>\n",
       "      <th>Fare</th>\n",
       "      <th>Pclass</th>\n",
       "    </tr>\n",
       "  </thead>\n",
       "  <tbody>\n",
       "    <tr>\n",
       "      <th>count</th>\n",
       "      <td>332.000000</td>\n",
       "      <td>417.000000</td>\n",
       "      <td>418.000000</td>\n",
       "    </tr>\n",
       "    <tr>\n",
       "      <th>mean</th>\n",
       "      <td>30.272590</td>\n",
       "      <td>35.627188</td>\n",
       "      <td>2.265550</td>\n",
       "    </tr>\n",
       "    <tr>\n",
       "      <th>std</th>\n",
       "      <td>14.181209</td>\n",
       "      <td>55.907576</td>\n",
       "      <td>0.841838</td>\n",
       "    </tr>\n",
       "    <tr>\n",
       "      <th>min</th>\n",
       "      <td>0.170000</td>\n",
       "      <td>0.000000</td>\n",
       "      <td>1.000000</td>\n",
       "    </tr>\n",
       "    <tr>\n",
       "      <th>25%</th>\n",
       "      <td>21.000000</td>\n",
       "      <td>7.895800</td>\n",
       "      <td>1.000000</td>\n",
       "    </tr>\n",
       "    <tr>\n",
       "      <th>50%</th>\n",
       "      <td>27.000000</td>\n",
       "      <td>14.454200</td>\n",
       "      <td>3.000000</td>\n",
       "    </tr>\n",
       "    <tr>\n",
       "      <th>75%</th>\n",
       "      <td>39.000000</td>\n",
       "      <td>31.500000</td>\n",
       "      <td>3.000000</td>\n",
       "    </tr>\n",
       "    <tr>\n",
       "      <th>max</th>\n",
       "      <td>76.000000</td>\n",
       "      <td>512.329200</td>\n",
       "      <td>3.000000</td>\n",
       "    </tr>\n",
       "  </tbody>\n",
       "</table>\n",
       "</div>"
      ],
      "text/plain": [
       "              Age        Fare      Pclass\n",
       "count  332.000000  417.000000  418.000000\n",
       "mean    30.272590   35.627188    2.265550\n",
       "std     14.181209   55.907576    0.841838\n",
       "min      0.170000    0.000000    1.000000\n",
       "25%     21.000000    7.895800    1.000000\n",
       "50%     27.000000   14.454200    3.000000\n",
       "75%     39.000000   31.500000    3.000000\n",
       "max     76.000000  512.329200    3.000000"
      ]
     },
     "execution_count": 6,
     "metadata": {},
     "output_type": "execute_result"
    }
   ],
   "source": [
    "test_df = df2[['Sex','Age','Fare','Pclass']]\n",
    "test_df.describe()\n"
   ]
  },
  {
   "cell_type": "code",
   "execution_count": 7,
   "id": "43b89a9d",
   "metadata": {
    "execution": {
     "iopub.execute_input": "2023-03-14T11:36:46.048308Z",
     "iopub.status.busy": "2023-03-14T11:36:46.047889Z",
     "iopub.status.idle": "2023-03-14T11:36:46.055428Z",
     "shell.execute_reply": "2023-03-14T11:36:46.054168Z"
    },
    "papermill": {
     "duration": 0.022706,
     "end_time": "2023-03-14T11:36:46.057921",
     "exception": false,
     "start_time": "2023-03-14T11:36:46.035215",
     "status": "completed"
    },
    "tags": []
   },
   "outputs": [
    {
     "data": {
      "text/plain": [
       "(891, 5)"
      ]
     },
     "execution_count": 7,
     "metadata": {},
     "output_type": "execute_result"
    }
   ],
   "source": [
    "train_df.shape"
   ]
  },
  {
   "cell_type": "code",
   "execution_count": 8,
   "id": "6de6d67c",
   "metadata": {
    "execution": {
     "iopub.execute_input": "2023-03-14T11:36:46.082365Z",
     "iopub.status.busy": "2023-03-14T11:36:46.081939Z",
     "iopub.status.idle": "2023-03-14T11:36:46.089068Z",
     "shell.execute_reply": "2023-03-14T11:36:46.087937Z"
    },
    "papermill": {
     "duration": 0.022464,
     "end_time": "2023-03-14T11:36:46.091603",
     "exception": false,
     "start_time": "2023-03-14T11:36:46.069139",
     "status": "completed"
    },
    "tags": []
   },
   "outputs": [
    {
     "data": {
      "text/plain": [
       "(418, 4)"
      ]
     },
     "execution_count": 8,
     "metadata": {},
     "output_type": "execute_result"
    }
   ],
   "source": [
    "test_df.shape"
   ]
  },
  {
   "cell_type": "code",
   "execution_count": 9,
   "id": "ab599fce",
   "metadata": {
    "execution": {
     "iopub.execute_input": "2023-03-14T11:36:46.117248Z",
     "iopub.status.busy": "2023-03-14T11:36:46.116851Z",
     "iopub.status.idle": "2023-03-14T11:36:46.137113Z",
     "shell.execute_reply": "2023-03-14T11:36:46.135896Z"
    },
    "papermill": {
     "duration": 0.036525,
     "end_time": "2023-03-14T11:36:46.139625",
     "exception": false,
     "start_time": "2023-03-14T11:36:46.103100",
     "status": "completed"
    },
    "tags": []
   },
   "outputs": [
    {
     "data": {
      "text/html": [
       "<div>\n",
       "<style scoped>\n",
       "    .dataframe tbody tr th:only-of-type {\n",
       "        vertical-align: middle;\n",
       "    }\n",
       "\n",
       "    .dataframe tbody tr th {\n",
       "        vertical-align: top;\n",
       "    }\n",
       "\n",
       "    .dataframe thead th {\n",
       "        text-align: right;\n",
       "    }\n",
       "</style>\n",
       "<table border=\"1\" class=\"dataframe\">\n",
       "  <thead>\n",
       "    <tr style=\"text-align: right;\">\n",
       "      <th></th>\n",
       "      <th>Survived</th>\n",
       "      <th>count</th>\n",
       "    </tr>\n",
       "  </thead>\n",
       "  <tbody>\n",
       "    <tr>\n",
       "      <th>0</th>\n",
       "      <td>0</td>\n",
       "      <td>549</td>\n",
       "    </tr>\n",
       "    <tr>\n",
       "      <th>1</th>\n",
       "      <td>1</td>\n",
       "      <td>342</td>\n",
       "    </tr>\n",
       "  </tbody>\n",
       "</table>\n",
       "</div>"
      ],
      "text/plain": [
       "   Survived  count\n",
       "0         0    549\n",
       "1         1    342"
      ]
     },
     "execution_count": 9,
     "metadata": {},
     "output_type": "execute_result"
    }
   ],
   "source": [
    "freq_table = train_df.groupby(['Survived']).size().reset_index(name='count').rename(columns={'Survived':'Survived'}) #to count the amount of value for a variable\n",
    "freq_table"
   ]
  },
  {
   "cell_type": "code",
   "execution_count": 10,
   "id": "d4c070cb",
   "metadata": {
    "execution": {
     "iopub.execute_input": "2023-03-14T11:36:46.164777Z",
     "iopub.status.busy": "2023-03-14T11:36:46.164344Z",
     "iopub.status.idle": "2023-03-14T11:36:46.177266Z",
     "shell.execute_reply": "2023-03-14T11:36:46.176000Z"
    },
    "papermill": {
     "duration": 0.028494,
     "end_time": "2023-03-14T11:36:46.179709",
     "exception": false,
     "start_time": "2023-03-14T11:36:46.151215",
     "status": "completed"
    },
    "tags": []
   },
   "outputs": [
    {
     "data": {
      "text/html": [
       "<div>\n",
       "<style scoped>\n",
       "    .dataframe tbody tr th:only-of-type {\n",
       "        vertical-align: middle;\n",
       "    }\n",
       "\n",
       "    .dataframe tbody tr th {\n",
       "        vertical-align: top;\n",
       "    }\n",
       "\n",
       "    .dataframe thead th {\n",
       "        text-align: right;\n",
       "    }\n",
       "</style>\n",
       "<table border=\"1\" class=\"dataframe\">\n",
       "  <thead>\n",
       "    <tr style=\"text-align: right;\">\n",
       "      <th></th>\n",
       "      <th>Survived</th>\n",
       "      <th>count</th>\n",
       "      <th>count%</th>\n",
       "    </tr>\n",
       "  </thead>\n",
       "  <tbody>\n",
       "    <tr>\n",
       "      <th>0</th>\n",
       "      <td>0</td>\n",
       "      <td>549</td>\n",
       "      <td>61.616162</td>\n",
       "    </tr>\n",
       "    <tr>\n",
       "      <th>1</th>\n",
       "      <td>1</td>\n",
       "      <td>342</td>\n",
       "      <td>38.383838</td>\n",
       "    </tr>\n",
       "  </tbody>\n",
       "</table>\n",
       "</div>"
      ],
      "text/plain": [
       "   Survived  count     count%\n",
       "0         0    549  61.616162\n",
       "1         1    342  38.383838"
      ]
     },
     "execution_count": 10,
     "metadata": {},
     "output_type": "execute_result"
    }
   ],
   "source": [
    "#To create a count percentage column and check the percentages\n",
    "freq_table['count%']= freq_table['count']/sum(freq_table['count'])*100\n",
    "freq_table"
   ]
  },
  {
   "cell_type": "code",
   "execution_count": 11,
   "id": "ac8cf28f",
   "metadata": {
    "execution": {
     "iopub.execute_input": "2023-03-14T11:36:46.204763Z",
     "iopub.status.busy": "2023-03-14T11:36:46.204337Z",
     "iopub.status.idle": "2023-03-14T11:36:46.228122Z",
     "shell.execute_reply": "2023-03-14T11:36:46.226704Z"
    },
    "papermill": {
     "duration": 0.040195,
     "end_time": "2023-03-14T11:36:46.231632",
     "exception": false,
     "start_time": "2023-03-14T11:36:46.191437",
     "status": "completed"
    },
    "tags": []
   },
   "outputs": [
    {
     "name": "stdout",
     "output_type": "stream",
     "text": [
      "<class 'pandas.core.frame.DataFrame'>\n",
      "RangeIndex: 891 entries, 0 to 890\n",
      "Data columns (total 5 columns):\n",
      " #   Column    Non-Null Count  Dtype  \n",
      "---  ------    --------------  -----  \n",
      " 0   Sex       891 non-null    object \n",
      " 1   Age       714 non-null    float64\n",
      " 2   Fare      891 non-null    float64\n",
      " 3   Pclass    891 non-null    int64  \n",
      " 4   Survived  891 non-null    int64  \n",
      "dtypes: float64(2), int64(2), object(1)\n",
      "memory usage: 34.9+ KB\n",
      "<class 'pandas.core.frame.DataFrame'>\n",
      "RangeIndex: 418 entries, 0 to 417\n",
      "Data columns (total 4 columns):\n",
      " #   Column  Non-Null Count  Dtype  \n",
      "---  ------  --------------  -----  \n",
      " 0   Sex     418 non-null    object \n",
      " 1   Age     332 non-null    float64\n",
      " 2   Fare    417 non-null    float64\n",
      " 3   Pclass  418 non-null    int64  \n",
      "dtypes: float64(2), int64(1), object(1)\n",
      "memory usage: 13.2+ KB\n"
     ]
    }
   ],
   "source": [
    "train_df.info()\n",
    "test_df.info()"
   ]
  },
  {
   "cell_type": "code",
   "execution_count": 12,
   "id": "54980969",
   "metadata": {
    "execution": {
     "iopub.execute_input": "2023-03-14T11:36:46.258085Z",
     "iopub.status.busy": "2023-03-14T11:36:46.257649Z",
     "iopub.status.idle": "2023-03-14T11:36:46.266881Z",
     "shell.execute_reply": "2023-03-14T11:36:46.266081Z"
    },
    "papermill": {
     "duration": 0.024735,
     "end_time": "2023-03-14T11:36:46.269068",
     "exception": false,
     "start_time": "2023-03-14T11:36:46.244333",
     "status": "completed"
    },
    "tags": []
   },
   "outputs": [
    {
     "data": {
      "text/plain": [
       "Sex           0\n",
       "Age         177\n",
       "Fare          0\n",
       "Pclass        0\n",
       "Survived      0\n",
       "dtype: int64"
      ]
     },
     "execution_count": 12,
     "metadata": {},
     "output_type": "execute_result"
    }
   ],
   "source": [
    "train_df.isnull().sum()\n"
   ]
  },
  {
   "cell_type": "code",
   "execution_count": 13,
   "id": "2abb2386",
   "metadata": {
    "execution": {
     "iopub.execute_input": "2023-03-14T11:36:46.295959Z",
     "iopub.status.busy": "2023-03-14T11:36:46.295539Z",
     "iopub.status.idle": "2023-03-14T11:36:46.304767Z",
     "shell.execute_reply": "2023-03-14T11:36:46.303798Z"
    },
    "papermill": {
     "duration": 0.025335,
     "end_time": "2023-03-14T11:36:46.307026",
     "exception": false,
     "start_time": "2023-03-14T11:36:46.281691",
     "status": "completed"
    },
    "tags": []
   },
   "outputs": [
    {
     "data": {
      "text/plain": [
       "Sex        0\n",
       "Age       86\n",
       "Fare       1\n",
       "Pclass     0\n",
       "dtype: int64"
      ]
     },
     "execution_count": 13,
     "metadata": {},
     "output_type": "execute_result"
    }
   ],
   "source": [
    "test_df.isnull().sum()"
   ]
  },
  {
   "cell_type": "code",
   "execution_count": 14,
   "id": "e75f4356",
   "metadata": {
    "execution": {
     "iopub.execute_input": "2023-03-14T11:36:46.333382Z",
     "iopub.status.busy": "2023-03-14T11:36:46.332951Z",
     "iopub.status.idle": "2023-03-14T11:36:50.750670Z",
     "shell.execute_reply": "2023-03-14T11:36:50.749693Z"
    },
    "papermill": {
     "duration": 4.434072,
     "end_time": "2023-03-14T11:36:50.753538",
     "exception": false,
     "start_time": "2023-03-14T11:36:46.319466",
     "status": "completed"
    },
    "tags": []
   },
   "outputs": [
    {
     "data": {
      "text/plain": [
       "<seaborn.axisgrid.PairGrid at 0x7f73db8d1790>"
      ]
     },
     "execution_count": 14,
     "metadata": {},
     "output_type": "execute_result"
    },
    {
     "data": {
      "image/png": "[encoded data removed]",
      "text/plain": [
       "<Figure size 720x720 with 20 Axes>"
      ]
     },
     "metadata": {},
     "output_type": "display_data"
    }
   ],
   "source": [
    "get_ipython().run_line_magic('matplotlib', 'inline')\n",
    "import seaborn as sns; sns.set()\n",
    "sns.pairplot(train_df)\n"
   ]
  },
  {
   "cell_type": "code",
   "execution_count": 15,
   "id": "9a2af2fc",
   "metadata": {
    "execution": {
     "iopub.execute_input": "2023-03-14T11:36:50.783889Z",
     "iopub.status.busy": "2023-03-14T11:36:50.782923Z",
     "iopub.status.idle": "2023-03-14T11:36:50.798468Z",
     "shell.execute_reply": "2023-03-14T11:36:50.797531Z"
    },
    "papermill": {
     "duration": 0.032992,
     "end_time": "2023-03-14T11:36:50.800819",
     "exception": false,
     "start_time": "2023-03-14T11:36:50.767827",
     "status": "completed"
    },
    "tags": []
   },
   "outputs": [
    {
     "data": {
      "text/html": [
       "<div>\n",
       "<style scoped>\n",
       "    .dataframe tbody tr th:only-of-type {\n",
       "        vertical-align: middle;\n",
       "    }\n",
       "\n",
       "    .dataframe tbody tr th {\n",
       "        vertical-align: top;\n",
       "    }\n",
       "\n",
       "    .dataframe thead th {\n",
       "        text-align: right;\n",
       "    }\n",
       "</style>\n",
       "<table border=\"1\" class=\"dataframe\">\n",
       "  <thead>\n",
       "    <tr style=\"text-align: right;\">\n",
       "      <th></th>\n",
       "      <th>Age</th>\n",
       "      <th>Fare</th>\n",
       "      <th>Pclass</th>\n",
       "      <th>Survived</th>\n",
       "    </tr>\n",
       "  </thead>\n",
       "  <tbody>\n",
       "    <tr>\n",
       "      <th>Age</th>\n",
       "      <td>1.000000</td>\n",
       "      <td>0.096067</td>\n",
       "      <td>-0.369226</td>\n",
       "      <td>-0.077221</td>\n",
       "    </tr>\n",
       "    <tr>\n",
       "      <th>Fare</th>\n",
       "      <td>0.096067</td>\n",
       "      <td>1.000000</td>\n",
       "      <td>-0.549500</td>\n",
       "      <td>0.257307</td>\n",
       "    </tr>\n",
       "    <tr>\n",
       "      <th>Pclass</th>\n",
       "      <td>-0.369226</td>\n",
       "      <td>-0.549500</td>\n",
       "      <td>1.000000</td>\n",
       "      <td>-0.338481</td>\n",
       "    </tr>\n",
       "    <tr>\n",
       "      <th>Survived</th>\n",
       "      <td>-0.077221</td>\n",
       "      <td>0.257307</td>\n",
       "      <td>-0.338481</td>\n",
       "      <td>1.000000</td>\n",
       "    </tr>\n",
       "  </tbody>\n",
       "</table>\n",
       "</div>"
      ],
      "text/plain": [
       "               Age      Fare    Pclass  Survived\n",
       "Age       1.000000  0.096067 -0.369226 -0.077221\n",
       "Fare      0.096067  1.000000 -0.549500  0.257307\n",
       "Pclass   -0.369226 -0.549500  1.000000 -0.338481\n",
       "Survived -0.077221  0.257307 -0.338481  1.000000"
      ]
     },
     "execution_count": 15,
     "metadata": {},
     "output_type": "execute_result"
    }
   ],
   "source": [
    "train_df.corr()# to get the correlation matrix with range from +1 to -1 where +1\n"
   ]
  },
  {
   "cell_type": "code",
   "execution_count": 16,
   "id": "be49f0e3",
   "metadata": {
    "execution": {
     "iopub.execute_input": "2023-03-14T11:36:50.830567Z",
     "iopub.status.busy": "2023-03-14T11:36:50.829788Z",
     "iopub.status.idle": "2023-03-14T11:36:51.220706Z",
     "shell.execute_reply": "2023-03-14T11:36:51.219491Z"
    },
    "papermill": {
     "duration": 0.408882,
     "end_time": "2023-03-14T11:36:51.223709",
     "exception": false,
     "start_time": "2023-03-14T11:36:50.814827",
     "status": "completed"
    },
    "tags": []
   },
   "outputs": [
    {
     "data": {
      "text/plain": [
       "<AxesSubplot:>"
      ]
     },
     "execution_count": 16,
     "metadata": {},
     "output_type": "execute_result"
    },
    {
     "data": {
      "image/png": "[encoded data removed]",
      "text/plain": [
       "<Figure size 432x288 with 2 Axes>"
      ]
     },
     "metadata": {},
     "output_type": "display_data"
    }
   ],
   "source": [
    "\n",
    "#to plot correlation \n",
    "sns.heatmap(train_df.corr())\n"
   ]
  },
  {
   "cell_type": "code",
   "execution_count": 17,
   "id": "6aa68e04",
   "metadata": {
    "execution": {
     "iopub.execute_input": "2023-03-14T11:36:51.253787Z",
     "iopub.status.busy": "2023-03-14T11:36:51.252896Z",
     "iopub.status.idle": "2023-03-14T11:36:51.268315Z",
     "shell.execute_reply": "2023-03-14T11:36:51.267420Z"
    },
    "papermill": {
     "duration": 0.033406,
     "end_time": "2023-03-14T11:36:51.271123",
     "exception": false,
     "start_time": "2023-03-14T11:36:51.237717",
     "status": "completed"
    },
    "tags": []
   },
   "outputs": [
    {
     "data": {
      "text/html": [
       "<div>\n",
       "<style scoped>\n",
       "    .dataframe tbody tr th:only-of-type {\n",
       "        vertical-align: middle;\n",
       "    }\n",
       "\n",
       "    .dataframe tbody tr th {\n",
       "        vertical-align: top;\n",
       "    }\n",
       "\n",
       "    .dataframe thead th {\n",
       "        text-align: right;\n",
       "    }\n",
       "</style>\n",
       "<table border=\"1\" class=\"dataframe\">\n",
       "  <thead>\n",
       "    <tr style=\"text-align: right;\">\n",
       "      <th></th>\n",
       "      <th>Age</th>\n",
       "      <th>Fare</th>\n",
       "      <th>Pclass</th>\n",
       "    </tr>\n",
       "    <tr>\n",
       "      <th>Survived</th>\n",
       "      <th></th>\n",
       "      <th></th>\n",
       "      <th></th>\n",
       "    </tr>\n",
       "  </thead>\n",
       "  <tbody>\n",
       "    <tr>\n",
       "      <th>0</th>\n",
       "      <td>30.626179</td>\n",
       "      <td>22.117887</td>\n",
       "      <td>2.531876</td>\n",
       "    </tr>\n",
       "    <tr>\n",
       "      <th>1</th>\n",
       "      <td>28.343690</td>\n",
       "      <td>48.395408</td>\n",
       "      <td>1.950292</td>\n",
       "    </tr>\n",
       "  </tbody>\n",
       "</table>\n",
       "</div>"
      ],
      "text/plain": [
       "                Age       Fare    Pclass\n",
       "Survived                                \n",
       "0         30.626179  22.117887  2.531876\n",
       "1         28.343690  48.395408  1.950292"
      ]
     },
     "execution_count": 17,
     "metadata": {},
     "output_type": "execute_result"
    }
   ],
   "source": [
    "train_df.groupby('Survived').mean()"
   ]
  },
  {
   "cell_type": "code",
   "execution_count": 18,
   "id": "f971db6d",
   "metadata": {
    "execution": {
     "iopub.execute_input": "2023-03-14T11:36:51.304577Z",
     "iopub.status.busy": "2023-03-14T11:36:51.304122Z",
     "iopub.status.idle": "2023-03-14T11:36:51.612146Z",
     "shell.execute_reply": "2023-03-14T11:36:51.611060Z"
    },
    "papermill": {
     "duration": 0.32635,
     "end_time": "2023-03-14T11:36:51.614860",
     "exception": false,
     "start_time": "2023-03-14T11:36:51.288510",
     "status": "completed"
    },
    "tags": []
   },
   "outputs": [
    {
     "data": {
      "text/plain": [
       "Text(0.5, 0, 'AGE')"
      ]
     },
     "execution_count": 18,
     "metadata": {},
     "output_type": "execute_result"
    },
    {
     "data": {
      "image/png": "[encoded data removed]",
      "text/plain": [
       "<Figure size 432x288 with 1 Axes>"
      ]
     },
     "metadata": {},
     "output_type": "display_data"
    }
   ],
   "source": [
    "import matplotlib.pyplot as plt\n",
    "train_df['Age'].hist()\n",
    "plt.title('Age distribution in Train set')\n",
    "plt.xlabel('AGE')\n"
   ]
  },
  {
   "cell_type": "code",
   "execution_count": 19,
   "id": "61dd8591",
   "metadata": {
    "execution": {
     "iopub.execute_input": "2023-03-14T11:36:51.646753Z",
     "iopub.status.busy": "2023-03-14T11:36:51.645689Z",
     "iopub.status.idle": "2023-03-14T11:36:51.924081Z",
     "shell.execute_reply": "2023-03-14T11:36:51.922789Z"
    },
    "papermill": {
     "duration": 0.297806,
     "end_time": "2023-03-14T11:36:51.927287",
     "exception": false,
     "start_time": "2023-03-14T11:36:51.629481",
     "status": "completed"
    },
    "tags": []
   },
   "outputs": [
    {
     "data": {
      "text/plain": [
       "Text(0.5, 0, 'AGE')"
      ]
     },
     "execution_count": 19,
     "metadata": {},
     "output_type": "execute_result"
    },
    {
     "data": {
      "image/png": "[encoded data removed]",
      "text/plain": [
       "<Figure size 432x288 with 1 Axes>"
      ]
     },
     "metadata": {},
     "output_type": "display_data"
    }
   ],
   "source": [
    "test_df['Age'].hist()\n",
    "plt.title('Age distribution in Test set')\n",
    "plt.xlabel('AGE')\n"
   ]
  },
  {
   "cell_type": "code",
   "execution_count": 20,
   "id": "b41437f1",
   "metadata": {
    "execution": {
     "iopub.execute_input": "2023-03-14T11:36:51.959946Z",
     "iopub.status.busy": "2023-03-14T11:36:51.959250Z",
     "iopub.status.idle": "2023-03-14T11:36:52.186271Z",
     "shell.execute_reply": "2023-03-14T11:36:52.184906Z"
    },
    "papermill": {
     "duration": 0.246595,
     "end_time": "2023-03-14T11:36:52.188883",
     "exception": false,
     "start_time": "2023-03-14T11:36:51.942288",
     "status": "completed"
    },
    "tags": []
   },
   "outputs": [
    {
     "name": "stderr",
     "output_type": "stream",
     "text": [
      "/opt/conda/lib/python3.7/site-packages/seaborn/_decorators.py:43: FutureWarning: Pass the following variable as a keyword arg: x. From version 0.12, the only valid positional argument will be `data`, and passing other arguments without an explicit keyword will result in an error or misinterpretation.\n",
      "  FutureWarning\n"
     ]
    },
    {
     "data": {
      "text/plain": [
       "Text(0.5, 1.0, 'Survived Vs Sex')"
      ]
     },
     "execution_count": 20,
     "metadata": {},
     "output_type": "execute_result"
    },
    {
     "data": {
      "image/png": "[encoded data removed]",
      "text/plain": [
       "<Figure size 432x288 with 1 Axes>"
      ]
     },
     "metadata": {},
     "output_type": "display_data"
    }
   ],
   "source": [
    "sns.countplot(train_df['Survived'], hue = train_df['Sex'])\n",
    "plt.title('Survived Vs Sex')"
   ]
  },
  {
   "cell_type": "code",
   "execution_count": 21,
   "id": "ac3ffd10",
   "metadata": {
    "execution": {
     "iopub.execute_input": "2023-03-14T11:36:52.220972Z",
     "iopub.status.busy": "2023-03-14T11:36:52.220529Z",
     "iopub.status.idle": "2023-03-14T11:36:52.421147Z",
     "shell.execute_reply": "2023-03-14T11:36:52.419882Z"
    },
    "papermill": {
     "duration": 0.219473,
     "end_time": "2023-03-14T11:36:52.423565",
     "exception": false,
     "start_time": "2023-03-14T11:36:52.204092",
     "status": "completed"
    },
    "tags": []
   },
   "outputs": [
    {
     "name": "stderr",
     "output_type": "stream",
     "text": [
      "/opt/conda/lib/python3.7/site-packages/seaborn/_decorators.py:43: FutureWarning: Pass the following variable as a keyword arg: x. From version 0.12, the only valid positional argument will be `data`, and passing other arguments without an explicit keyword will result in an error or misinterpretation.\n",
      "  FutureWarning\n"
     ]
    },
    {
     "data": {
      "text/plain": [
       "<AxesSubplot:xlabel='Pclass', ylabel='count'>"
      ]
     },
     "execution_count": 21,
     "metadata": {},
     "output_type": "execute_result"
    },
    {
     "data": {
      "image/png": "[encoded data removed]",
      "text/plain": [
       "<Figure size 432x288 with 1 Axes>"
      ]
     },
     "metadata": {},
     "output_type": "display_data"
    }
   ],
   "source": [
    "sns.countplot(train_df['Pclass'])"
   ]
  },
  {
   "cell_type": "markdown",
   "id": "d36f9cb5",
   "metadata": {
    "papermill": {
     "duration": 0.015242,
     "end_time": "2023-03-14T11:36:52.455096",
     "exception": false,
     "start_time": "2023-03-14T11:36:52.439854",
     "status": "completed"
    },
    "tags": []
   },
   "source": [
    "## Model Prediction using MLP (multi layer perceptron) classifier"
   ]
  },
  {
   "cell_type": "code",
   "execution_count": 22,
   "id": "0b5665d1",
   "metadata": {
    "execution": {
     "iopub.execute_input": "2023-03-14T11:36:52.488088Z",
     "iopub.status.busy": "2023-03-14T11:36:52.487600Z",
     "iopub.status.idle": "2023-03-14T11:36:52.731357Z",
     "shell.execute_reply": "2023-03-14T11:36:52.730016Z"
    },
    "papermill": {
     "duration": 0.263892,
     "end_time": "2023-03-14T11:36:52.734438",
     "exception": false,
     "start_time": "2023-03-14T11:36:52.470546",
     "status": "completed"
    },
    "tags": []
   },
   "outputs": [],
   "source": [
    "from sklearn.model_selection import train_test_split #training the mlp model\n",
    "from sklearn.neural_network import MLPClassifier\n"
   ]
  },
  {
   "cell_type": "code",
   "execution_count": 23,
   "id": "57372540",
   "metadata": {
    "execution": {
     "iopub.execute_input": "2023-03-14T11:36:52.768395Z",
     "iopub.status.busy": "2023-03-14T11:36:52.767989Z",
     "iopub.status.idle": "2023-03-14T11:36:52.794347Z",
     "shell.execute_reply": "2023-03-14T11:36:52.792751Z"
    },
    "papermill": {
     "duration": 0.046548,
     "end_time": "2023-03-14T11:36:52.797147",
     "exception": false,
     "start_time": "2023-03-14T11:36:52.750599",
     "status": "completed"
    },
    "tags": []
   },
   "outputs": [
    {
     "name": "stderr",
     "output_type": "stream",
     "text": [
      "/opt/conda/lib/python3.7/site-packages/ipykernel_launcher.py:5: SettingWithCopyWarning: \n",
      "A value is trying to be set on a copy of a slice from a DataFrame.\n",
      "Try using .loc[row_indexer,col_indexer] = value instead\n",
      "\n",
      "See the caveats in the documentation: https://pandas.pydata.org/pandas-docs/stable/user_guide/indexing.html#returning-a-view-versus-a-copy\n",
      "  \"\"\"\n",
      "/opt/conda/lib/python3.7/site-packages/ipykernel_launcher.py:11: SettingWithCopyWarning: \n",
      "A value is trying to be set on a copy of a slice from a DataFrame.\n",
      "Try using .loc[row_indexer,col_indexer] = value instead\n",
      "\n",
      "See the caveats in the documentation: https://pandas.pydata.org/pandas-docs/stable/user_guide/indexing.html#returning-a-view-versus-a-copy\n",
      "  # This is added back by InteractiveShellApp.init_path()\n"
     ]
    },
    {
     "data": {
      "text/html": [
       "<div>\n",
       "<style scoped>\n",
       "    .dataframe tbody tr th:only-of-type {\n",
       "        vertical-align: middle;\n",
       "    }\n",
       "\n",
       "    .dataframe tbody tr th {\n",
       "        vertical-align: top;\n",
       "    }\n",
       "\n",
       "    .dataframe thead th {\n",
       "        text-align: right;\n",
       "    }\n",
       "</style>\n",
       "<table border=\"1\" class=\"dataframe\">\n",
       "  <thead>\n",
       "    <tr style=\"text-align: right;\">\n",
       "      <th></th>\n",
       "      <th>Age</th>\n",
       "      <th>Fare</th>\n",
       "      <th>Pclass</th>\n",
       "      <th>male</th>\n",
       "    </tr>\n",
       "  </thead>\n",
       "  <tbody>\n",
       "    <tr>\n",
       "      <th>0</th>\n",
       "      <td>34.5</td>\n",
       "      <td>7.8292</td>\n",
       "      <td>3</td>\n",
       "      <td>True</td>\n",
       "    </tr>\n",
       "    <tr>\n",
       "      <th>1</th>\n",
       "      <td>47.0</td>\n",
       "      <td>7.0000</td>\n",
       "      <td>3</td>\n",
       "      <td>False</td>\n",
       "    </tr>\n",
       "    <tr>\n",
       "      <th>2</th>\n",
       "      <td>62.0</td>\n",
       "      <td>9.6875</td>\n",
       "      <td>2</td>\n",
       "      <td>True</td>\n",
       "    </tr>\n",
       "    <tr>\n",
       "      <th>3</th>\n",
       "      <td>27.0</td>\n",
       "      <td>8.6625</td>\n",
       "      <td>3</td>\n",
       "      <td>True</td>\n",
       "    </tr>\n",
       "    <tr>\n",
       "      <th>4</th>\n",
       "      <td>22.0</td>\n",
       "      <td>12.2875</td>\n",
       "      <td>3</td>\n",
       "      <td>False</td>\n",
       "    </tr>\n",
       "    <tr>\n",
       "      <th>...</th>\n",
       "      <td>...</td>\n",
       "      <td>...</td>\n",
       "      <td>...</td>\n",
       "      <td>...</td>\n",
       "    </tr>\n",
       "    <tr>\n",
       "      <th>413</th>\n",
       "      <td>NaN</td>\n",
       "      <td>8.0500</td>\n",
       "      <td>3</td>\n",
       "      <td>True</td>\n",
       "    </tr>\n",
       "    <tr>\n",
       "      <th>414</th>\n",
       "      <td>39.0</td>\n",
       "      <td>108.9000</td>\n",
       "      <td>1</td>\n",
       "      <td>False</td>\n",
       "    </tr>\n",
       "    <tr>\n",
       "      <th>415</th>\n",
       "      <td>38.5</td>\n",
       "      <td>7.2500</td>\n",
       "      <td>3</td>\n",
       "      <td>True</td>\n",
       "    </tr>\n",
       "    <tr>\n",
       "      <th>416</th>\n",
       "      <td>NaN</td>\n",
       "      <td>8.0500</td>\n",
       "      <td>3</td>\n",
       "      <td>True</td>\n",
       "    </tr>\n",
       "    <tr>\n",
       "      <th>417</th>\n",
       "      <td>NaN</td>\n",
       "      <td>22.3583</td>\n",
       "      <td>3</td>\n",
       "      <td>True</td>\n",
       "    </tr>\n",
       "  </tbody>\n",
       "</table>\n",
       "<p>418 rows × 4 columns</p>\n",
       "</div>"
      ],
      "text/plain": [
       "      Age      Fare  Pclass   male\n",
       "0    34.5    7.8292       3   True\n",
       "1    47.0    7.0000       3  False\n",
       "2    62.0    9.6875       2   True\n",
       "3    27.0    8.6625       3   True\n",
       "4    22.0   12.2875       3  False\n",
       "..    ...       ...     ...    ...\n",
       "413   NaN    8.0500       3   True\n",
       "414  39.0  108.9000       1  False\n",
       "415  38.5    7.2500       3   True\n",
       "416   NaN    8.0500       3   True\n",
       "417   NaN   22.3583       3   True\n",
       "\n",
       "[418 rows x 4 columns]"
      ]
     },
     "execution_count": 23,
     "metadata": {},
     "output_type": "execute_result"
    }
   ],
   "source": [
    "x = train_df.drop(columns = ['Survived'])\n",
    "y = train_df['Survived']\n",
    "\n",
    "train_df['Sex'] == 'male'\n",
    "train_df['male'] = train_df['Sex'] == 'male'\n",
    "x = train_df.drop(columns = ['Sex','Survived'])\n",
    "\n",
    "x.shape\n",
    "\n",
    "test_df['Sex']=='male'\n",
    "test_df['male']= test_df['Sex']=='male'\n",
    "test_df.drop(columns=['Sex'])"
   ]
  },
  {
   "cell_type": "code",
   "execution_count": 24,
   "id": "fed44167",
   "metadata": {
    "execution": {
     "iopub.execute_input": "2023-03-14T11:36:52.831963Z",
     "iopub.status.busy": "2023-03-14T11:36:52.831539Z",
     "iopub.status.idle": "2023-03-14T11:36:52.839219Z",
     "shell.execute_reply": "2023-03-14T11:36:52.837990Z"
    },
    "papermill": {
     "duration": 0.028266,
     "end_time": "2023-03-14T11:36:52.841606",
     "exception": false,
     "start_time": "2023-03-14T11:36:52.813340",
     "status": "completed"
    },
    "tags": []
   },
   "outputs": [
    {
     "data": {
      "text/plain": [
       "(891,)"
      ]
     },
     "execution_count": 24,
     "metadata": {},
     "output_type": "execute_result"
    }
   ],
   "source": [
    "y.shape"
   ]
  },
  {
   "cell_type": "code",
   "execution_count": 25,
   "id": "1096f45e",
   "metadata": {
    "execution": {
     "iopub.execute_input": "2023-03-14T11:36:52.875327Z",
     "iopub.status.busy": "2023-03-14T11:36:52.874929Z",
     "iopub.status.idle": "2023-03-14T11:36:52.881188Z",
     "shell.execute_reply": "2023-03-14T11:36:52.880280Z"
    },
    "papermill": {
     "duration": 0.026228,
     "end_time": "2023-03-14T11:36:52.883714",
     "exception": false,
     "start_time": "2023-03-14T11:36:52.857486",
     "status": "completed"
    },
    "tags": []
   },
   "outputs": [],
   "source": [
    "import numpy as np\n",
    "x.replace(np.nan,'0', inplace=True)"
   ]
  },
  {
   "cell_type": "code",
   "execution_count": 26,
   "id": "d0f29fbf",
   "metadata": {
    "execution": {
     "iopub.execute_input": "2023-03-14T11:36:52.918407Z",
     "iopub.status.busy": "2023-03-14T11:36:52.917505Z",
     "iopub.status.idle": "2023-03-14T11:36:54.752688Z",
     "shell.execute_reply": "2023-03-14T11:36:54.751458Z"
    },
    "papermill": {
     "duration": 1.857612,
     "end_time": "2023-03-14T11:36:54.757838",
     "exception": false,
     "start_time": "2023-03-14T11:36:52.900226",
     "status": "completed"
    },
    "tags": []
   },
   "outputs": [
    {
     "data": {
      "text/plain": [
       "0.7859281437125748"
      ]
     },
     "execution_count": 26,
     "metadata": {},
     "output_type": "execute_result"
    }
   ],
   "source": [
    "\n",
    "from sklearn.neural_network import MLPClassifier\n",
    "from sklearn.model_selection import train_test_split\n",
    "\n",
    "\n",
    "x_train,x_test,y_train,y_test = train_test_split(x,y,random_state=3)\n",
    "mlp= MLPClassifier(max_iter=1000, hidden_layer_sizes=(100,50), alpha=0.0001, solver='adam',random_state=3)\n",
    "mlp.fit(x_train,y_train)\n",
    "y_pred = mlp.predict(x_test)\n",
    "mlp.score(x_train,y_train)\n"
   ]
  },
  {
   "cell_type": "code",
   "execution_count": 27,
   "id": "cbcd37ce",
   "metadata": {
    "execution": {
     "iopub.execute_input": "2023-03-14T11:36:54.845569Z",
     "iopub.status.busy": "2023-03-14T11:36:54.844844Z",
     "iopub.status.idle": "2023-03-14T11:36:54.865524Z",
     "shell.execute_reply": "2023-03-14T11:36:54.863971Z"
    },
    "papermill": {
     "duration": 0.067289,
     "end_time": "2023-03-14T11:36:54.868224",
     "exception": false,
     "start_time": "2023-03-14T11:36:54.800935",
     "status": "completed"
    },
    "tags": []
   },
   "outputs": [
    {
     "name": "stdout",
     "output_type": "stream",
     "text": [
      "accuracy: 0.7443946188340808\n",
      "precision: 0.6407766990291263\n",
      "recall: 0.7674418604651163\n",
      "f1 score: 0.6984126984126984\n"
     ]
    }
   ],
   "source": [
    "# Model Evaluation\n",
    "from sklearn.metrics import recall_score, precision_score, accuracy_score, f1_score\n",
    "print('accuracy:', accuracy_score(y_test, y_pred))\n",
    "print('precision:', precision_score(y_test, y_pred))\n",
    "print('recall:', recall_score(y_test, y_pred))\n",
    "print('f1 score:', f1_score(y_test, y_pred))"
   ]
  },
  {
   "cell_type": "markdown",
   "id": "2761ce67",
   "metadata": {
    "papermill": {
     "duration": 0.01614,
     "end_time": "2023-03-14T11:36:54.900359",
     "exception": false,
     "start_time": "2023-03-14T11:36:54.884219",
     "status": "completed"
    },
    "tags": []
   },
   "source": [
    "## Model Prediction using SVM(Support Vector Machine)"
   ]
  },
  {
   "cell_type": "code",
   "execution_count": 28,
   "id": "11bdfbe5",
   "metadata": {
    "execution": {
     "iopub.execute_input": "2023-03-14T11:36:54.934313Z",
     "iopub.status.busy": "2023-03-14T11:36:54.933886Z",
     "iopub.status.idle": "2023-03-14T11:36:54.963704Z",
     "shell.execute_reply": "2023-03-14T11:36:54.962095Z"
    },
    "papermill": {
     "duration": 0.050013,
     "end_time": "2023-03-14T11:36:54.966477",
     "exception": false,
     "start_time": "2023-03-14T11:36:54.916464",
     "status": "completed"
    },
    "tags": []
   },
   "outputs": [
    {
     "data": {
      "text/html": [
       "<div>\n",
       "<style scoped>\n",
       "    .dataframe tbody tr th:only-of-type {\n",
       "        vertical-align: middle;\n",
       "    }\n",
       "\n",
       "    .dataframe tbody tr th {\n",
       "        vertical-align: top;\n",
       "    }\n",
       "\n",
       "    .dataframe thead th {\n",
       "        text-align: right;\n",
       "    }\n",
       "</style>\n",
       "<table border=\"1\" class=\"dataframe\">\n",
       "  <thead>\n",
       "    <tr style=\"text-align: right;\">\n",
       "      <th></th>\n",
       "      <th>PassengerId</th>\n",
       "      <th>Survived</th>\n",
       "      <th>Pclass</th>\n",
       "      <th>Name</th>\n",
       "      <th>Sex</th>\n",
       "      <th>Age</th>\n",
       "      <th>SibSp</th>\n",
       "      <th>Parch</th>\n",
       "      <th>Ticket</th>\n",
       "      <th>Fare</th>\n",
       "      <th>Cabin</th>\n",
       "      <th>Embarked</th>\n",
       "    </tr>\n",
       "  </thead>\n",
       "  <tbody>\n",
       "    <tr>\n",
       "      <th>0</th>\n",
       "      <td>1</td>\n",
       "      <td>0</td>\n",
       "      <td>3</td>\n",
       "      <td>Braund, Mr. Owen Harris</td>\n",
       "      <td>male</td>\n",
       "      <td>22.0</td>\n",
       "      <td>1</td>\n",
       "      <td>0</td>\n",
       "      <td>A/5 21171</td>\n",
       "      <td>7.2500</td>\n",
       "      <td>NaN</td>\n",
       "      <td>S</td>\n",
       "    </tr>\n",
       "    <tr>\n",
       "      <th>1</th>\n",
       "      <td>2</td>\n",
       "      <td>1</td>\n",
       "      <td>1</td>\n",
       "      <td>Cumings, Mrs. John Bradley (Florence Briggs Th...</td>\n",
       "      <td>female</td>\n",
       "      <td>38.0</td>\n",
       "      <td>1</td>\n",
       "      <td>0</td>\n",
       "      <td>PC 17599</td>\n",
       "      <td>71.2833</td>\n",
       "      <td>C85</td>\n",
       "      <td>C</td>\n",
       "    </tr>\n",
       "    <tr>\n",
       "      <th>2</th>\n",
       "      <td>3</td>\n",
       "      <td>1</td>\n",
       "      <td>3</td>\n",
       "      <td>Heikkinen, Miss. Laina</td>\n",
       "      <td>female</td>\n",
       "      <td>26.0</td>\n",
       "      <td>0</td>\n",
       "      <td>0</td>\n",
       "      <td>STON/O2. 3101282</td>\n",
       "      <td>7.9250</td>\n",
       "      <td>NaN</td>\n",
       "      <td>S</td>\n",
       "    </tr>\n",
       "    <tr>\n",
       "      <th>3</th>\n",
       "      <td>4</td>\n",
       "      <td>1</td>\n",
       "      <td>1</td>\n",
       "      <td>Futrelle, Mrs. Jacques Heath (Lily May Peel)</td>\n",
       "      <td>female</td>\n",
       "      <td>35.0</td>\n",
       "      <td>1</td>\n",
       "      <td>0</td>\n",
       "      <td>113803</td>\n",
       "      <td>53.1000</td>\n",
       "      <td>C123</td>\n",
       "      <td>S</td>\n",
       "    </tr>\n",
       "    <tr>\n",
       "      <th>4</th>\n",
       "      <td>5</td>\n",
       "      <td>0</td>\n",
       "      <td>3</td>\n",
       "      <td>Allen, Mr. William Henry</td>\n",
       "      <td>male</td>\n",
       "      <td>35.0</td>\n",
       "      <td>0</td>\n",
       "      <td>0</td>\n",
       "      <td>373450</td>\n",
       "      <td>8.0500</td>\n",
       "      <td>NaN</td>\n",
       "      <td>S</td>\n",
       "    </tr>\n",
       "  </tbody>\n",
       "</table>\n",
       "</div>"
      ],
      "text/plain": [
       "   PassengerId  Survived  Pclass  \\\n",
       "0            1         0       3   \n",
       "1            2         1       1   \n",
       "2            3         1       3   \n",
       "3            4         1       1   \n",
       "4            5         0       3   \n",
       "\n",
       "                                                Name     Sex   Age  SibSp  \\\n",
       "0                            Braund, Mr. Owen Harris    male  22.0      1   \n",
       "1  Cumings, Mrs. John Bradley (Florence Briggs Th...  female  38.0      1   \n",
       "2                             Heikkinen, Miss. Laina  female  26.0      0   \n",
       "3       Futrelle, Mrs. Jacques Heath (Lily May Peel)  female  35.0      1   \n",
       "4                           Allen, Mr. William Henry    male  35.0      0   \n",
       "\n",
       "   Parch            Ticket     Fare Cabin Embarked  \n",
       "0      0         A/5 21171   7.2500   NaN        S  \n",
       "1      0          PC 17599  71.2833   C85        C  \n",
       "2      0  STON/O2. 3101282   7.9250   NaN        S  \n",
       "3      0            113803  53.1000  C123        S  \n",
       "4      0            373450   8.0500   NaN        S  "
      ]
     },
     "execution_count": 28,
     "metadata": {},
     "output_type": "execute_result"
    }
   ],
   "source": [
    "import pandas as pd\n",
    "df1 = pd.read_csv(\"../input/titanic/train.csv\")\n",
    "df2 = pd.read_csv (\"../input/titanic/test.csv\")\n",
    "df1.head()"
   ]
  },
  {
   "cell_type": "code",
   "execution_count": 29,
   "id": "67d5b465",
   "metadata": {
    "execution": {
     "iopub.execute_input": "2023-03-14T11:36:55.001253Z",
     "iopub.status.busy": "2023-03-14T11:36:55.000785Z",
     "iopub.status.idle": "2023-03-14T11:36:55.023846Z",
     "shell.execute_reply": "2023-03-14T11:36:55.022915Z"
    },
    "papermill": {
     "duration": 0.043615,
     "end_time": "2023-03-14T11:36:55.026751",
     "exception": false,
     "start_time": "2023-03-14T11:36:54.983136",
     "status": "completed"
    },
    "tags": []
   },
   "outputs": [],
   "source": [
    "train_df = df1[['Sex','Age','Fare','Pclass','Survived']]\n",
    "train_df.describe()\n",
    "x = train_df.drop(columns = ['Survived'])\n",
    "x.replace({'Sex': {'male':0, 'female':1}}, inplace= True)"
   ]
  },
  {
   "cell_type": "code",
   "execution_count": 30,
   "id": "c42c3ff8",
   "metadata": {
    "execution": {
     "iopub.execute_input": "2023-03-14T11:36:55.063018Z",
     "iopub.status.busy": "2023-03-14T11:36:55.062541Z",
     "iopub.status.idle": "2023-03-14T11:36:55.086458Z",
     "shell.execute_reply": "2023-03-14T11:36:55.085246Z"
    },
    "papermill": {
     "duration": 0.045075,
     "end_time": "2023-03-14T11:36:55.088939",
     "exception": false,
     "start_time": "2023-03-14T11:36:55.043864",
     "status": "completed"
    },
    "tags": []
   },
   "outputs": [
    {
     "data": {
      "text/html": [
       "<div>\n",
       "<style scoped>\n",
       "    .dataframe tbody tr th:only-of-type {\n",
       "        vertical-align: middle;\n",
       "    }\n",
       "\n",
       "    .dataframe tbody tr th {\n",
       "        vertical-align: top;\n",
       "    }\n",
       "\n",
       "    .dataframe thead th {\n",
       "        text-align: right;\n",
       "    }\n",
       "</style>\n",
       "<table border=\"1\" class=\"dataframe\">\n",
       "  <thead>\n",
       "    <tr style=\"text-align: right;\">\n",
       "      <th></th>\n",
       "      <th>Age</th>\n",
       "      <th>Fare</th>\n",
       "      <th>Pclass</th>\n",
       "    </tr>\n",
       "  </thead>\n",
       "  <tbody>\n",
       "    <tr>\n",
       "      <th>count</th>\n",
       "      <td>332.000000</td>\n",
       "      <td>417.000000</td>\n",
       "      <td>418.000000</td>\n",
       "    </tr>\n",
       "    <tr>\n",
       "      <th>mean</th>\n",
       "      <td>30.272590</td>\n",
       "      <td>35.627188</td>\n",
       "      <td>2.265550</td>\n",
       "    </tr>\n",
       "    <tr>\n",
       "      <th>std</th>\n",
       "      <td>14.181209</td>\n",
       "      <td>55.907576</td>\n",
       "      <td>0.841838</td>\n",
       "    </tr>\n",
       "    <tr>\n",
       "      <th>min</th>\n",
       "      <td>0.170000</td>\n",
       "      <td>0.000000</td>\n",
       "      <td>1.000000</td>\n",
       "    </tr>\n",
       "    <tr>\n",
       "      <th>25%</th>\n",
       "      <td>21.000000</td>\n",
       "      <td>7.895800</td>\n",
       "      <td>1.000000</td>\n",
       "    </tr>\n",
       "    <tr>\n",
       "      <th>50%</th>\n",
       "      <td>27.000000</td>\n",
       "      <td>14.454200</td>\n",
       "      <td>3.000000</td>\n",
       "    </tr>\n",
       "    <tr>\n",
       "      <th>75%</th>\n",
       "      <td>39.000000</td>\n",
       "      <td>31.500000</td>\n",
       "      <td>3.000000</td>\n",
       "    </tr>\n",
       "    <tr>\n",
       "      <th>max</th>\n",
       "      <td>76.000000</td>\n",
       "      <td>512.329200</td>\n",
       "      <td>3.000000</td>\n",
       "    </tr>\n",
       "  </tbody>\n",
       "</table>\n",
       "</div>"
      ],
      "text/plain": [
       "              Age        Fare      Pclass\n",
       "count  332.000000  417.000000  418.000000\n",
       "mean    30.272590   35.627188    2.265550\n",
       "std     14.181209   55.907576    0.841838\n",
       "min      0.170000    0.000000    1.000000\n",
       "25%     21.000000    7.895800    1.000000\n",
       "50%     27.000000   14.454200    3.000000\n",
       "75%     39.000000   31.500000    3.000000\n",
       "max     76.000000  512.329200    3.000000"
      ]
     },
     "execution_count": 30,
     "metadata": {},
     "output_type": "execute_result"
    }
   ],
   "source": [
    "test_df = df2[['Sex','Age','Fare','Pclass']]\n",
    "test_df.describe()\n"
   ]
  },
  {
   "cell_type": "code",
   "execution_count": 31,
   "id": "efbc0a9f",
   "metadata": {
    "execution": {
     "iopub.execute_input": "2023-03-14T11:36:55.125282Z",
     "iopub.status.busy": "2023-03-14T11:36:55.124305Z",
     "iopub.status.idle": "2023-03-14T11:36:55.136326Z",
     "shell.execute_reply": "2023-03-14T11:36:55.135464Z"
    },
    "papermill": {
     "duration": 0.033125,
     "end_time": "2023-03-14T11:36:55.138768",
     "exception": false,
     "start_time": "2023-03-14T11:36:55.105643",
     "status": "completed"
    },
    "tags": []
   },
   "outputs": [
    {
     "data": {
      "text/plain": [
       "(891, 4)"
      ]
     },
     "execution_count": 31,
     "metadata": {},
     "output_type": "execute_result"
    }
   ],
   "source": [
    "x = train_df.drop(columns = ['Survived'])\n",
    "x.replace({'Sex': {'male':0, 'female':1}}, inplace= True)\n",
    "xtrain= x.fillna(0)\n",
    "xtrain.isna().sum()\n",
    "xtrain.shape"
   ]
  },
  {
   "cell_type": "code",
   "execution_count": 32,
   "id": "96c51661",
   "metadata": {
    "execution": {
     "iopub.execute_input": "2023-03-14T11:36:55.174857Z",
     "iopub.status.busy": "2023-03-14T11:36:55.174120Z",
     "iopub.status.idle": "2023-03-14T11:36:55.180365Z",
     "shell.execute_reply": "2023-03-14T11:36:55.179525Z"
    },
    "papermill": {
     "duration": 0.026678,
     "end_time": "2023-03-14T11:36:55.182538",
     "exception": false,
     "start_time": "2023-03-14T11:36:55.155860",
     "status": "completed"
    },
    "tags": []
   },
   "outputs": [
    {
     "data": {
      "text/plain": [
       "(891,)"
      ]
     },
     "execution_count": 32,
     "metadata": {},
     "output_type": "execute_result"
    }
   ],
   "source": [
    "ytrain = df1['Survived']\n",
    "ytrain.shape"
   ]
  },
  {
   "cell_type": "code",
   "execution_count": 33,
   "id": "dd5831df",
   "metadata": {
    "execution": {
     "iopub.execute_input": "2023-03-14T11:36:55.219211Z",
     "iopub.status.busy": "2023-03-14T11:36:55.218468Z",
     "iopub.status.idle": "2023-03-14T11:36:55.233869Z",
     "shell.execute_reply": "2023-03-14T11:36:55.232636Z"
    },
    "papermill": {
     "duration": 0.037474,
     "end_time": "2023-03-14T11:36:55.236955",
     "exception": false,
     "start_time": "2023-03-14T11:36:55.199481",
     "status": "completed"
    },
    "tags": []
   },
   "outputs": [
    {
     "data": {
      "text/html": [
       "<div>\n",
       "<style scoped>\n",
       "    .dataframe tbody tr th:only-of-type {\n",
       "        vertical-align: middle;\n",
       "    }\n",
       "\n",
       "    .dataframe tbody tr th {\n",
       "        vertical-align: top;\n",
       "    }\n",
       "\n",
       "    .dataframe thead th {\n",
       "        text-align: right;\n",
       "    }\n",
       "</style>\n",
       "<table border=\"1\" class=\"dataframe\">\n",
       "  <thead>\n",
       "    <tr style=\"text-align: right;\">\n",
       "      <th></th>\n",
       "      <th>Sex</th>\n",
       "      <th>Age</th>\n",
       "      <th>Fare</th>\n",
       "      <th>Pclass</th>\n",
       "    </tr>\n",
       "  </thead>\n",
       "  <tbody>\n",
       "    <tr>\n",
       "      <th>0</th>\n",
       "      <td>0</td>\n",
       "      <td>22.0</td>\n",
       "      <td>7.2500</td>\n",
       "      <td>3</td>\n",
       "    </tr>\n",
       "    <tr>\n",
       "      <th>1</th>\n",
       "      <td>1</td>\n",
       "      <td>38.0</td>\n",
       "      <td>71.2833</td>\n",
       "      <td>1</td>\n",
       "    </tr>\n",
       "    <tr>\n",
       "      <th>2</th>\n",
       "      <td>1</td>\n",
       "      <td>26.0</td>\n",
       "      <td>7.9250</td>\n",
       "      <td>3</td>\n",
       "    </tr>\n",
       "    <tr>\n",
       "      <th>3</th>\n",
       "      <td>1</td>\n",
       "      <td>35.0</td>\n",
       "      <td>53.1000</td>\n",
       "      <td>1</td>\n",
       "    </tr>\n",
       "    <tr>\n",
       "      <th>4</th>\n",
       "      <td>0</td>\n",
       "      <td>35.0</td>\n",
       "      <td>8.0500</td>\n",
       "      <td>3</td>\n",
       "    </tr>\n",
       "    <tr>\n",
       "      <th>...</th>\n",
       "      <td>...</td>\n",
       "      <td>...</td>\n",
       "      <td>...</td>\n",
       "      <td>...</td>\n",
       "    </tr>\n",
       "    <tr>\n",
       "      <th>886</th>\n",
       "      <td>0</td>\n",
       "      <td>27.0</td>\n",
       "      <td>13.0000</td>\n",
       "      <td>2</td>\n",
       "    </tr>\n",
       "    <tr>\n",
       "      <th>887</th>\n",
       "      <td>1</td>\n",
       "      <td>19.0</td>\n",
       "      <td>30.0000</td>\n",
       "      <td>1</td>\n",
       "    </tr>\n",
       "    <tr>\n",
       "      <th>888</th>\n",
       "      <td>1</td>\n",
       "      <td>0.0</td>\n",
       "      <td>23.4500</td>\n",
       "      <td>3</td>\n",
       "    </tr>\n",
       "    <tr>\n",
       "      <th>889</th>\n",
       "      <td>0</td>\n",
       "      <td>26.0</td>\n",
       "      <td>30.0000</td>\n",
       "      <td>1</td>\n",
       "    </tr>\n",
       "    <tr>\n",
       "      <th>890</th>\n",
       "      <td>0</td>\n",
       "      <td>32.0</td>\n",
       "      <td>7.7500</td>\n",
       "      <td>3</td>\n",
       "    </tr>\n",
       "  </tbody>\n",
       "</table>\n",
       "<p>891 rows × 4 columns</p>\n",
       "</div>"
      ],
      "text/plain": [
       "     Sex   Age     Fare  Pclass\n",
       "0      0  22.0   7.2500       3\n",
       "1      1  38.0  71.2833       1\n",
       "2      1  26.0   7.9250       3\n",
       "3      1  35.0  53.1000       1\n",
       "4      0  35.0   8.0500       3\n",
       "..   ...   ...      ...     ...\n",
       "886    0  27.0  13.0000       2\n",
       "887    1  19.0  30.0000       1\n",
       "888    1   0.0  23.4500       3\n",
       "889    0  26.0  30.0000       1\n",
       "890    0  32.0   7.7500       3\n",
       "\n",
       "[891 rows x 4 columns]"
      ]
     },
     "execution_count": 33,
     "metadata": {},
     "output_type": "execute_result"
    }
   ],
   "source": [
    "xtrain"
   ]
  },
  {
   "cell_type": "code",
   "execution_count": 34,
   "id": "5e284468",
   "metadata": {
    "execution": {
     "iopub.execute_input": "2023-03-14T11:36:55.274551Z",
     "iopub.status.busy": "2023-03-14T11:36:55.273364Z",
     "iopub.status.idle": "2023-03-14T11:36:55.282495Z",
     "shell.execute_reply": "2023-03-14T11:36:55.281148Z"
    },
    "papermill": {
     "duration": 0.030321,
     "end_time": "2023-03-14T11:36:55.285021",
     "exception": false,
     "start_time": "2023-03-14T11:36:55.254700",
     "status": "completed"
    },
    "tags": []
   },
   "outputs": [
    {
     "data": {
      "text/plain": [
       "(418, 4)"
      ]
     },
     "execution_count": 34,
     "metadata": {},
     "output_type": "execute_result"
    }
   ],
   "source": [
    "u = test_df\n",
    "utest = u.fillna(0)\n",
    "utest.shape\n"
   ]
  },
  {
   "cell_type": "code",
   "execution_count": 35,
   "id": "ccc0ac77",
   "metadata": {
    "execution": {
     "iopub.execute_input": "2023-03-14T11:36:55.321994Z",
     "iopub.status.busy": "2023-03-14T11:36:55.321190Z",
     "iopub.status.idle": "2023-03-14T11:36:55.339124Z",
     "shell.execute_reply": "2023-03-14T11:36:55.337895Z"
    },
    "papermill": {
     "duration": 0.039304,
     "end_time": "2023-03-14T11:36:55.341623",
     "exception": false,
     "start_time": "2023-03-14T11:36:55.302319",
     "status": "completed"
    },
    "tags": []
   },
   "outputs": [
    {
     "data": {
      "text/html": [
       "<div>\n",
       "<style scoped>\n",
       "    .dataframe tbody tr th:only-of-type {\n",
       "        vertical-align: middle;\n",
       "    }\n",
       "\n",
       "    .dataframe tbody tr th {\n",
       "        vertical-align: top;\n",
       "    }\n",
       "\n",
       "    .dataframe thead th {\n",
       "        text-align: right;\n",
       "    }\n",
       "</style>\n",
       "<table border=\"1\" class=\"dataframe\">\n",
       "  <thead>\n",
       "    <tr style=\"text-align: right;\">\n",
       "      <th></th>\n",
       "      <th>Sex</th>\n",
       "      <th>Age</th>\n",
       "      <th>Fare</th>\n",
       "      <th>Pclass</th>\n",
       "    </tr>\n",
       "  </thead>\n",
       "  <tbody>\n",
       "    <tr>\n",
       "      <th>0</th>\n",
       "      <td>0</td>\n",
       "      <td>34.5</td>\n",
       "      <td>7.8292</td>\n",
       "      <td>3</td>\n",
       "    </tr>\n",
       "    <tr>\n",
       "      <th>1</th>\n",
       "      <td>1</td>\n",
       "      <td>47.0</td>\n",
       "      <td>7.0000</td>\n",
       "      <td>3</td>\n",
       "    </tr>\n",
       "    <tr>\n",
       "      <th>2</th>\n",
       "      <td>0</td>\n",
       "      <td>62.0</td>\n",
       "      <td>9.6875</td>\n",
       "      <td>2</td>\n",
       "    </tr>\n",
       "    <tr>\n",
       "      <th>3</th>\n",
       "      <td>0</td>\n",
       "      <td>27.0</td>\n",
       "      <td>8.6625</td>\n",
       "      <td>3</td>\n",
       "    </tr>\n",
       "    <tr>\n",
       "      <th>4</th>\n",
       "      <td>1</td>\n",
       "      <td>22.0</td>\n",
       "      <td>12.2875</td>\n",
       "      <td>3</td>\n",
       "    </tr>\n",
       "    <tr>\n",
       "      <th>...</th>\n",
       "      <td>...</td>\n",
       "      <td>...</td>\n",
       "      <td>...</td>\n",
       "      <td>...</td>\n",
       "    </tr>\n",
       "    <tr>\n",
       "      <th>413</th>\n",
       "      <td>0</td>\n",
       "      <td>0.0</td>\n",
       "      <td>8.0500</td>\n",
       "      <td>3</td>\n",
       "    </tr>\n",
       "    <tr>\n",
       "      <th>414</th>\n",
       "      <td>1</td>\n",
       "      <td>39.0</td>\n",
       "      <td>108.9000</td>\n",
       "      <td>1</td>\n",
       "    </tr>\n",
       "    <tr>\n",
       "      <th>415</th>\n",
       "      <td>0</td>\n",
       "      <td>38.5</td>\n",
       "      <td>7.2500</td>\n",
       "      <td>3</td>\n",
       "    </tr>\n",
       "    <tr>\n",
       "      <th>416</th>\n",
       "      <td>0</td>\n",
       "      <td>0.0</td>\n",
       "      <td>8.0500</td>\n",
       "      <td>3</td>\n",
       "    </tr>\n",
       "    <tr>\n",
       "      <th>417</th>\n",
       "      <td>0</td>\n",
       "      <td>0.0</td>\n",
       "      <td>22.3583</td>\n",
       "      <td>3</td>\n",
       "    </tr>\n",
       "  </tbody>\n",
       "</table>\n",
       "<p>418 rows × 4 columns</p>\n",
       "</div>"
      ],
      "text/plain": [
       "     Sex   Age      Fare  Pclass\n",
       "0      0  34.5    7.8292       3\n",
       "1      1  47.0    7.0000       3\n",
       "2      0  62.0    9.6875       2\n",
       "3      0  27.0    8.6625       3\n",
       "4      1  22.0   12.2875       3\n",
       "..   ...   ...       ...     ...\n",
       "413    0   0.0    8.0500       3\n",
       "414    1  39.0  108.9000       1\n",
       "415    0  38.5    7.2500       3\n",
       "416    0   0.0    8.0500       3\n",
       "417    0   0.0   22.3583       3\n",
       "\n",
       "[418 rows x 4 columns]"
      ]
     },
     "execution_count": 35,
     "metadata": {},
     "output_type": "execute_result"
    }
   ],
   "source": [
    "utest.replace({'Sex': {'male':0, 'female':1}}, inplace= True)\n",
    "utest"
   ]
  },
  {
   "cell_type": "code",
   "execution_count": 36,
   "id": "b29ff78f",
   "metadata": {
    "execution": {
     "iopub.execute_input": "2023-03-14T11:36:55.378904Z",
     "iopub.status.busy": "2023-03-14T11:36:55.378089Z",
     "iopub.status.idle": "2023-03-14T11:36:55.489174Z",
     "shell.execute_reply": "2023-03-14T11:36:55.487928Z"
    },
    "papermill": {
     "duration": 0.132732,
     "end_time": "2023-03-14T11:36:55.491830",
     "exception": false,
     "start_time": "2023-03-14T11:36:55.359098",
     "status": "completed"
    },
    "tags": []
   },
   "outputs": [
    {
     "data": {
      "text/plain": [
       "0.7867564534231201"
      ]
     },
     "execution_count": 36,
     "metadata": {},
     "output_type": "execute_result"
    }
   ],
   "source": [
    "from sklearn.pipeline import Pipeline\n",
    "from sklearn.preprocessing import StandardScaler\n",
    "from sklearn.svm import LinearSVC\n",
    "import numpy as np\n",
    "import matplotlib.pyplot as plt\n",
    "svm_clf = Pipeline((\n",
    "('scaler', StandardScaler()),\n",
    "('linear_svc', LinearSVC(C = 1,loss ='hinge'))\n",
    "\n",
    "))\n",
    "svm_clf.fit(xtrain,ytrain)\n",
    "svm_clf.score(xtrain,ytrain)"
   ]
  },
  {
   "cell_type": "code",
   "execution_count": 37,
   "id": "aaf4bebc",
   "metadata": {
    "execution": {
     "iopub.execute_input": "2023-03-14T11:36:55.529191Z",
     "iopub.status.busy": "2023-03-14T11:36:55.528749Z",
     "iopub.status.idle": "2023-03-14T11:36:55.538966Z",
     "shell.execute_reply": "2023-03-14T11:36:55.537635Z"
    },
    "papermill": {
     "duration": 0.032177,
     "end_time": "2023-03-14T11:36:55.541619",
     "exception": false,
     "start_time": "2023-03-14T11:36:55.509442",
     "status": "completed"
    },
    "tags": []
   },
   "outputs": [
    {
     "data": {
      "text/plain": [
       "(418,)"
      ]
     },
     "execution_count": 37,
     "metadata": {},
     "output_type": "execute_result"
    }
   ],
   "source": [
    "pred = svm_clf.predict(utest)\n",
    "\n",
    "pred.shape"
   ]
  },
  {
   "cell_type": "code",
   "execution_count": 38,
   "id": "c8ed9c9a",
   "metadata": {
    "execution": {
     "iopub.execute_input": "2023-03-14T11:36:55.578693Z",
     "iopub.status.busy": "2023-03-14T11:36:55.578298Z",
     "iopub.status.idle": "2023-03-14T11:36:55.587324Z",
     "shell.execute_reply": "2023-03-14T11:36:55.586324Z"
    },
    "papermill": {
     "duration": 0.030595,
     "end_time": "2023-03-14T11:36:55.589817",
     "exception": false,
     "start_time": "2023-03-14T11:36:55.559222",
     "status": "completed"
    },
    "tags": []
   },
   "outputs": [],
   "source": [
    "submit = pd.DataFrame({\n",
    "        \"PassengerId\": df2[\"PassengerId\"],\n",
    "        \"Survived\": pred\n",
    "    })\n",
    "submit.to_csv('submit.csv', header= True, index=False)"
   ]
  },
  {
   "cell_type": "code",
   "execution_count": null,
   "id": "92344a54",
   "metadata": {
    "papermill": {
     "duration": 0.017599,
     "end_time": "2023-03-14T11:36:55.626159",
     "exception": false,
     "start_time": "2023-03-14T11:36:55.608560",
     "status": "completed"
    },
    "tags": []
   },
   "outputs": [],
   "source": []
  }
 ],
 "metadata": {
  "kernelspec": {
   "display_name": "Python 3",
   "language": "python",
   "name": "python3"
  },
  "language_info": {
   "codemirror_mode": {
    "name": "ipython",
    "version": 3
   },
   "file_extension": ".py",
   "mimetype": "text/x-python",
   "name": "python",
   "nbconvert_exporter": "python",
   "pygments_lexer": "ipython3",
   "version": "3.7.12"
  },
  "papermill": {
   "default_parameters": {},
   "duration": 21.53729,
   "end_time": "2023-03-14T11:36:56.567446",
   "environment_variables": {},
   "exception": null,
   "input_path": "__notebook__.ipynb",
   "output_path": "__notebook__.ipynb",
   "parameters": {},
   "start_time": "2023-03-14T11:36:35.030156",
   "version": "2.3.4"
  }
 },
 "nbformat": 4,
 "nbformat_minor": 5
}
